{
 "cells": [
  {
   "cell_type": "code",
   "execution_count": 1,
   "metadata": {},
   "outputs": [],
   "source": [
    "import json\n",
    "from py2neo import Graph, Node, Relationship"
   ]
  },
  {
   "cell_type": "code",
   "execution_count": 2,
   "metadata": {},
   "outputs": [],
   "source": [
    "# Step 1: Load the JSON data\n",
    "def load_json(filename):\n",
    "    with open(filename, 'r') as f:\n",
    "        return json.load(f)\n",
    "\n",
    "# Step 2: Connect to Neo4j\n",
    "def connect_to_neo4j(uri, username, password):\n",
    "    return Graph(uri, auth=(username, password))\n",
    "\n",
    "# Step 3: Create nodes\n",
    "def create_nodes(graph, data):\n",
    "    nodes = {}\n",
    "    for node in data['nodes']:\n",
    "        neo4j_node = Node('Node', **node)\n",
    "        graph.create(neo4j_node)\n",
    "        nodes[node['id']] = neo4j_node\n",
    "    return nodes\n",
    "\n",
    "# Step 4: Create relationships\n",
    "def create_relationships(graph, data, nodes):\n",
    "    for link in data['links']:\n",
    "        source = nodes[link['source']]\n",
    "        target = nodes[link['target']]\n",
    "        rel = Relationship(source, 'CONNECTS_TO', target)\n",
    "        graph.create(rel)"
   ]
  },
  {
   "cell_type": "code",
   "execution_count": 3,
   "metadata": {},
   "outputs": [],
   "source": [
    "\n",
    "# Main function\n",
    "def upload_to_neo4j(filename, uri, username, password):\n",
    "    data = load_json(filename)\n",
    "    graph = connect_to_neo4j(uri, username, password)\n",
    "    \n",
    "    # Clear the database (optional)\n",
    "    graph.delete_all()\n",
    "    \n",
    "    nodes = create_nodes(graph, data)\n",
    "    create_relationships(graph, data, nodes)\n",
    "    \n",
    "    print(\"Data uploaded successfully!\")"
   ]
  },
  {
   "cell_type": "code",
   "execution_count": 4,
   "metadata": {},
   "outputs": [],
   "source": [
    "# Usage\n",
    "filename = '../synthesized_graph.json'\n",
    "neo4j_uri = 'bolt://localhost:7687'\n",
    "neo4j_username = 'neo4j'\n",
    "neo4j_password = '123123123'"
   ]
  },
  {
   "cell_type": "code",
   "execution_count": 5,
   "metadata": {},
   "outputs": [
    {
     "name": "stdout",
     "output_type": "stream",
     "text": [
      "Data uploaded successfully!\n"
     ]
    }
   ],
   "source": [
    "upload_to_neo4j(filename, neo4j_uri, neo4j_username, neo4j_password)"
   ]
  },
  {
   "cell_type": "code",
   "execution_count": null,
   "metadata": {},
   "outputs": [],
   "source": []
  }
 ],
 "metadata": {
  "kernelspec": {
   "display_name": "venv",
   "language": "python",
   "name": "python3"
  },
  "language_info": {
   "codemirror_mode": {
    "name": "ipython",
    "version": 3
   },
   "file_extension": ".py",
   "mimetype": "text/x-python",
   "name": "python",
   "nbconvert_exporter": "python",
   "pygments_lexer": "ipython3",
   "version": "3.12.0"
  }
 },
 "nbformat": 4,
 "nbformat_minor": 2
}
